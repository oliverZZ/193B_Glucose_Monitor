{
  "nbformat": 4,
  "nbformat_minor": 0,
  "metadata": {
    "colab": {
      "name": "Infection_Detection_SVM.ipynb",
      "provenance": [],
      "collapsed_sections": [
        "p4JBCoaARlth"
      ],
      "machine_shape": "hm"
    },
    "kernelspec": {
      "name": "python3",
      "display_name": "Python 3"
    },
    "accelerator": "GPU"
  },
  "cells": [
    {
      "cell_type": "code",
      "metadata": {
        "id": "_u9U5GsRKKnO",
        "colab_type": "code",
        "colab": {}
      },
      "source": [
        "%matplotlib inline\n",
        "import warnings\n",
        "warnings.simplefilter('ignore')\n",
        "import pandas as pd\n",
        "pd.options.display.max_rows = 20\n",
        "import matplotlib.pyplot as plt\n",
        "import numpy as np\n",
        "\n",
        "bg = pd.read_excel('/content/drive/My Drive/EEC 193/EEC 193B/Burn_Glucose_022020.xlsx', skiprows = 0)"
      ],
      "execution_count": 0,
      "outputs": []
    },
    {
      "cell_type": "code",
      "metadata": {
        "id": "ekWDiq0hvtyF",
        "colab_type": "code",
        "outputId": "3180e91d-91c0-4cbe-836c-9085c8aa3cd0",
        "colab": {
          "base_uri": "https://localhost:8080/",
          "height": 122
        }
      },
      "source": [
        "from google.colab import drive\n",
        "drive.mount('/content/drive')"
      ],
      "execution_count": 1,
      "outputs": [
        {
          "output_type": "stream",
          "text": [
            "Go to this URL in a browser: https://accounts.google.com/o/oauth2/auth?client_id=947318989803-6bn6qk8qdgf4n4g3pfee6491hc0brc4i.apps.googleusercontent.com&redirect_uri=urn%3aietf%3awg%3aoauth%3a2.0%3aoob&response_type=code&scope=email%20https%3a%2f%2fwww.googleapis.com%2fauth%2fdocs.test%20https%3a%2f%2fwww.googleapis.com%2fauth%2fdrive%20https%3a%2f%2fwww.googleapis.com%2fauth%2fdrive.photos.readonly%20https%3a%2f%2fwww.googleapis.com%2fauth%2fpeopleapi.readonly\n",
            "\n",
            "Enter your authorization code:\n",
            "··········\n",
            "Mounted at /content/drive\n"
          ],
          "name": "stdout"
        }
      ]
    },
    {
      "cell_type": "code",
      "metadata": {
        "id": "EXcQ0KMM_hzw",
        "colab_type": "code",
        "outputId": "4f7beb16-a769-4f87-ed8d-14d5d0f0fb32",
        "colab": {
          "base_uri": "https://localhost:8080/",
          "height": 626
        }
      },
      "source": [
        "bg"
      ],
      "execution_count": 3,
      "outputs": [
        {
          "output_type": "execute_result",
          "data": {
            "text/html": [
              "<div>\n",
              "<style scoped>\n",
              "    .dataframe tbody tr th:only-of-type {\n",
              "        vertical-align: middle;\n",
              "    }\n",
              "\n",
              "    .dataframe tbody tr th {\n",
              "        vertical-align: top;\n",
              "    }\n",
              "\n",
              "    .dataframe thead th {\n",
              "        text-align: right;\n",
              "    }\n",
              "</style>\n",
              "<table border=\"1\" class=\"dataframe\">\n",
              "  <thead>\n",
              "    <tr style=\"text-align: right;\">\n",
              "      <th></th>\n",
              "      <th>PER_CODE</th>\n",
              "      <th>Collection Date</th>\n",
              "      <th>Time Vitals</th>\n",
              "      <th>Systolic</th>\n",
              "      <th>Diastolic</th>\n",
              "      <th>MAP</th>\n",
              "      <th>HR</th>\n",
              "      <th>RR</th>\n",
              "      <th>Temp</th>\n",
              "      <th>CVP</th>\n",
              "      <th>GCS</th>\n",
              "      <th>Vent</th>\n",
              "      <th>Time_CBC</th>\n",
              "      <th>WBC</th>\n",
              "      <th>Hgb</th>\n",
              "      <th>Hct</th>\n",
              "      <th>Platelet</th>\n",
              "      <th>Time Labs</th>\n",
              "      <th>Na</th>\n",
              "      <th>K_pos</th>\n",
              "      <th>BUN</th>\n",
              "      <th>Creatnine</th>\n",
              "      <th>Glucose</th>\n",
              "      <th>Tbili</th>\n",
              "      <th>Chloride</th>\n",
              "      <th>V_CO2</th>\n",
              "      <th>PaO2</th>\n",
              "      <th>FIO2</th>\n",
              "      <th>PaCO2</th>\n",
              "      <th>HCO3</th>\n",
              "      <th>PH</th>\n",
              "      <th>Sepsis</th>\n",
              "    </tr>\n",
              "  </thead>\n",
              "  <tbody>\n",
              "    <tr>\n",
              "      <th>0</th>\n",
              "      <td>21</td>\n",
              "      <td>2011-01-02</td>\n",
              "      <td>614.0</td>\n",
              "      <td>113.0</td>\n",
              "      <td>67.0</td>\n",
              "      <td>78.0</td>\n",
              "      <td>102.0</td>\n",
              "      <td>15.0</td>\n",
              "      <td>37.0</td>\n",
              "      <td>7.0</td>\n",
              "      <td>15.0</td>\n",
              "      <td>No</td>\n",
              "      <td>5.0</td>\n",
              "      <td>6.9</td>\n",
              "      <td>8.1</td>\n",
              "      <td>24.5</td>\n",
              "      <td>578.0</td>\n",
              "      <td>5.0</td>\n",
              "      <td>136.0</td>\n",
              "      <td>3.6</td>\n",
              "      <td>7.0</td>\n",
              "      <td>0.53</td>\n",
              "      <td>110.0</td>\n",
              "      <td>0.3</td>\n",
              "      <td>101.0</td>\n",
              "      <td>29.0</td>\n",
              "      <td>NaN</td>\n",
              "      <td>NaN</td>\n",
              "      <td>NaN</td>\n",
              "      <td>NaN</td>\n",
              "      <td>NaN</td>\n",
              "      <td>0</td>\n",
              "    </tr>\n",
              "    <tr>\n",
              "      <th>1</th>\n",
              "      <td>21</td>\n",
              "      <td>2011-01-03</td>\n",
              "      <td>600.0</td>\n",
              "      <td>137.0</td>\n",
              "      <td>67.0</td>\n",
              "      <td>85.0</td>\n",
              "      <td>105.0</td>\n",
              "      <td>16.0</td>\n",
              "      <td>37.3</td>\n",
              "      <td>7.0</td>\n",
              "      <td>15.0</td>\n",
              "      <td>No</td>\n",
              "      <td>59.0</td>\n",
              "      <td>7.8</td>\n",
              "      <td>7.9</td>\n",
              "      <td>25.1</td>\n",
              "      <td>615.0</td>\n",
              "      <td>59.0</td>\n",
              "      <td>137.0</td>\n",
              "      <td>3.7</td>\n",
              "      <td>8.0</td>\n",
              "      <td>0.55</td>\n",
              "      <td>130.0</td>\n",
              "      <td>0.3</td>\n",
              "      <td>104.0</td>\n",
              "      <td>27.0</td>\n",
              "      <td>NaN</td>\n",
              "      <td>NaN</td>\n",
              "      <td>NaN</td>\n",
              "      <td>NaN</td>\n",
              "      <td>NaN</td>\n",
              "      <td>0</td>\n",
              "    </tr>\n",
              "    <tr>\n",
              "      <th>2</th>\n",
              "      <td>21</td>\n",
              "      <td>2011-01-04</td>\n",
              "      <td>1000.0</td>\n",
              "      <td>124.0</td>\n",
              "      <td>56.0</td>\n",
              "      <td>73.0</td>\n",
              "      <td>104.0</td>\n",
              "      <td>18.0</td>\n",
              "      <td>37.5</td>\n",
              "      <td>7.0</td>\n",
              "      <td>15.0</td>\n",
              "      <td>No</td>\n",
              "      <td>208.0</td>\n",
              "      <td>8.9</td>\n",
              "      <td>8.7</td>\n",
              "      <td>26.6</td>\n",
              "      <td>607.0</td>\n",
              "      <td>208.0</td>\n",
              "      <td>135.0</td>\n",
              "      <td>3.4</td>\n",
              "      <td>8.0</td>\n",
              "      <td>0.53</td>\n",
              "      <td>172.0</td>\n",
              "      <td>0.3</td>\n",
              "      <td>103.0</td>\n",
              "      <td>24.0</td>\n",
              "      <td>NaN</td>\n",
              "      <td>NaN</td>\n",
              "      <td>NaN</td>\n",
              "      <td>NaN</td>\n",
              "      <td>NaN</td>\n",
              "      <td>0</td>\n",
              "    </tr>\n",
              "    <tr>\n",
              "      <th>3</th>\n",
              "      <td>21</td>\n",
              "      <td>2011-01-05</td>\n",
              "      <td>930.0</td>\n",
              "      <td>143.0</td>\n",
              "      <td>69.0</td>\n",
              "      <td>85.0</td>\n",
              "      <td>104.0</td>\n",
              "      <td>18.0</td>\n",
              "      <td>37.5</td>\n",
              "      <td>7.0</td>\n",
              "      <td>15.0</td>\n",
              "      <td>No</td>\n",
              "      <td>103.0</td>\n",
              "      <td>9.3</td>\n",
              "      <td>8.4</td>\n",
              "      <td>25.7</td>\n",
              "      <td>414.0</td>\n",
              "      <td>103.0</td>\n",
              "      <td>134.0</td>\n",
              "      <td>4.8</td>\n",
              "      <td>10.0</td>\n",
              "      <td>0.49</td>\n",
              "      <td>150.0</td>\n",
              "      <td>0.3</td>\n",
              "      <td>103.0</td>\n",
              "      <td>25.0</td>\n",
              "      <td>NaN</td>\n",
              "      <td>0.21</td>\n",
              "      <td>NaN</td>\n",
              "      <td>NaN</td>\n",
              "      <td>NaN</td>\n",
              "      <td>0</td>\n",
              "    </tr>\n",
              "    <tr>\n",
              "      <th>4</th>\n",
              "      <td>21</td>\n",
              "      <td>2011-01-06</td>\n",
              "      <td>1130.0</td>\n",
              "      <td>130.0</td>\n",
              "      <td>59.0</td>\n",
              "      <td>83.0</td>\n",
              "      <td>104.0</td>\n",
              "      <td>23.0</td>\n",
              "      <td>38.0</td>\n",
              "      <td>7.0</td>\n",
              "      <td>15.0</td>\n",
              "      <td>No</td>\n",
              "      <td>130.0</td>\n",
              "      <td>8.4</td>\n",
              "      <td>8.9</td>\n",
              "      <td>27.7</td>\n",
              "      <td>701.0</td>\n",
              "      <td>130.0</td>\n",
              "      <td>136.0</td>\n",
              "      <td>3.5</td>\n",
              "      <td>11.0</td>\n",
              "      <td>0.51</td>\n",
              "      <td>109.0</td>\n",
              "      <td>0.3</td>\n",
              "      <td>103.0</td>\n",
              "      <td>27.0</td>\n",
              "      <td>NaN</td>\n",
              "      <td>NaN</td>\n",
              "      <td>NaN</td>\n",
              "      <td>NaN</td>\n",
              "      <td>NaN</td>\n",
              "      <td>0</td>\n",
              "    </tr>\n",
              "    <tr>\n",
              "      <th>...</th>\n",
              "      <td>...</td>\n",
              "      <td>...</td>\n",
              "      <td>...</td>\n",
              "      <td>...</td>\n",
              "      <td>...</td>\n",
              "      <td>...</td>\n",
              "      <td>...</td>\n",
              "      <td>...</td>\n",
              "      <td>...</td>\n",
              "      <td>...</td>\n",
              "      <td>...</td>\n",
              "      <td>...</td>\n",
              "      <td>...</td>\n",
              "      <td>...</td>\n",
              "      <td>...</td>\n",
              "      <td>...</td>\n",
              "      <td>...</td>\n",
              "      <td>...</td>\n",
              "      <td>...</td>\n",
              "      <td>...</td>\n",
              "      <td>...</td>\n",
              "      <td>...</td>\n",
              "      <td>...</td>\n",
              "      <td>...</td>\n",
              "      <td>...</td>\n",
              "      <td>...</td>\n",
              "      <td>...</td>\n",
              "      <td>...</td>\n",
              "      <td>...</td>\n",
              "      <td>...</td>\n",
              "      <td>...</td>\n",
              "      <td>...</td>\n",
              "    </tr>\n",
              "    <tr>\n",
              "      <th>6536</th>\n",
              "      <td>PCR-004-00018</td>\n",
              "      <td>2013-05-27</td>\n",
              "      <td>600.0</td>\n",
              "      <td>140.0</td>\n",
              "      <td>70.0</td>\n",
              "      <td>102.0</td>\n",
              "      <td>116.0</td>\n",
              "      <td>26.0</td>\n",
              "      <td>38.5</td>\n",
              "      <td>NaN</td>\n",
              "      <td>NaN</td>\n",
              "      <td>No</td>\n",
              "      <td>211.0</td>\n",
              "      <td>17.6</td>\n",
              "      <td>9.2</td>\n",
              "      <td>26.8</td>\n",
              "      <td>454.0</td>\n",
              "      <td>211.0</td>\n",
              "      <td>138.0</td>\n",
              "      <td>4.5</td>\n",
              "      <td>12.0</td>\n",
              "      <td>0.88</td>\n",
              "      <td>139.0</td>\n",
              "      <td>NaN</td>\n",
              "      <td>103.0</td>\n",
              "      <td>25.0</td>\n",
              "      <td>NaN</td>\n",
              "      <td>NaN</td>\n",
              "      <td>NaN</td>\n",
              "      <td>NaN</td>\n",
              "      <td>NaN</td>\n",
              "      <td>0</td>\n",
              "    </tr>\n",
              "    <tr>\n",
              "      <th>6537</th>\n",
              "      <td>PCR-004-00018</td>\n",
              "      <td>2013-05-28</td>\n",
              "      <td>600.0</td>\n",
              "      <td>158.0</td>\n",
              "      <td>53.0</td>\n",
              "      <td>82.0</td>\n",
              "      <td>110.0</td>\n",
              "      <td>22.0</td>\n",
              "      <td>37.8</td>\n",
              "      <td>NaN</td>\n",
              "      <td>NaN</td>\n",
              "      <td>No</td>\n",
              "      <td>NaN</td>\n",
              "      <td>NaN</td>\n",
              "      <td>NaN</td>\n",
              "      <td>NaN</td>\n",
              "      <td>NaN</td>\n",
              "      <td>NaN</td>\n",
              "      <td>NaN</td>\n",
              "      <td>NaN</td>\n",
              "      <td>NaN</td>\n",
              "      <td>NaN</td>\n",
              "      <td>NaN</td>\n",
              "      <td>NaN</td>\n",
              "      <td>NaN</td>\n",
              "      <td>NaN</td>\n",
              "      <td>NaN</td>\n",
              "      <td>NaN</td>\n",
              "      <td>NaN</td>\n",
              "      <td>NaN</td>\n",
              "      <td>NaN</td>\n",
              "      <td>0</td>\n",
              "    </tr>\n",
              "    <tr>\n",
              "      <th>6538</th>\n",
              "      <td>PCR-004-00018</td>\n",
              "      <td>2013-05-29</td>\n",
              "      <td>600.0</td>\n",
              "      <td>133.0</td>\n",
              "      <td>51.0</td>\n",
              "      <td>72.0</td>\n",
              "      <td>120.0</td>\n",
              "      <td>22.0</td>\n",
              "      <td>38.5</td>\n",
              "      <td>NaN</td>\n",
              "      <td>NaN</td>\n",
              "      <td>No</td>\n",
              "      <td>NaN</td>\n",
              "      <td>NaN</td>\n",
              "      <td>NaN</td>\n",
              "      <td>NaN</td>\n",
              "      <td>NaN</td>\n",
              "      <td>NaN</td>\n",
              "      <td>NaN</td>\n",
              "      <td>NaN</td>\n",
              "      <td>NaN</td>\n",
              "      <td>NaN</td>\n",
              "      <td>NaN</td>\n",
              "      <td>NaN</td>\n",
              "      <td>NaN</td>\n",
              "      <td>NaN</td>\n",
              "      <td>NaN</td>\n",
              "      <td>NaN</td>\n",
              "      <td>NaN</td>\n",
              "      <td>NaN</td>\n",
              "      <td>NaN</td>\n",
              "      <td>0</td>\n",
              "    </tr>\n",
              "    <tr>\n",
              "      <th>6539</th>\n",
              "      <td>PCR-004-00018</td>\n",
              "      <td>2013-05-30</td>\n",
              "      <td>600.0</td>\n",
              "      <td>118.0</td>\n",
              "      <td>49.0</td>\n",
              "      <td>73.0</td>\n",
              "      <td>118.0</td>\n",
              "      <td>22.0</td>\n",
              "      <td>38.8</td>\n",
              "      <td>NaN</td>\n",
              "      <td>NaN</td>\n",
              "      <td>No</td>\n",
              "      <td>NaN</td>\n",
              "      <td>NaN</td>\n",
              "      <td>NaN</td>\n",
              "      <td>NaN</td>\n",
              "      <td>NaN</td>\n",
              "      <td>NaN</td>\n",
              "      <td>NaN</td>\n",
              "      <td>NaN</td>\n",
              "      <td>NaN</td>\n",
              "      <td>NaN</td>\n",
              "      <td>NaN</td>\n",
              "      <td>NaN</td>\n",
              "      <td>NaN</td>\n",
              "      <td>NaN</td>\n",
              "      <td>NaN</td>\n",
              "      <td>NaN</td>\n",
              "      <td>NaN</td>\n",
              "      <td>NaN</td>\n",
              "      <td>NaN</td>\n",
              "      <td>0</td>\n",
              "    </tr>\n",
              "    <tr>\n",
              "      <th>6540</th>\n",
              "      <td>PCR-004-00018</td>\n",
              "      <td>2013-05-31</td>\n",
              "      <td>600.0</td>\n",
              "      <td>132.0</td>\n",
              "      <td>52.0</td>\n",
              "      <td>78.0</td>\n",
              "      <td>118.0</td>\n",
              "      <td>22.0</td>\n",
              "      <td>38.5</td>\n",
              "      <td>NaN</td>\n",
              "      <td>NaN</td>\n",
              "      <td>No</td>\n",
              "      <td>NaN</td>\n",
              "      <td>NaN</td>\n",
              "      <td>NaN</td>\n",
              "      <td>NaN</td>\n",
              "      <td>NaN</td>\n",
              "      <td>NaN</td>\n",
              "      <td>NaN</td>\n",
              "      <td>NaN</td>\n",
              "      <td>NaN</td>\n",
              "      <td>NaN</td>\n",
              "      <td>NaN</td>\n",
              "      <td>NaN</td>\n",
              "      <td>NaN</td>\n",
              "      <td>NaN</td>\n",
              "      <td>NaN</td>\n",
              "      <td>NaN</td>\n",
              "      <td>NaN</td>\n",
              "      <td>NaN</td>\n",
              "      <td>NaN</td>\n",
              "      <td>0</td>\n",
              "    </tr>\n",
              "  </tbody>\n",
              "</table>\n",
              "<p>6541 rows × 32 columns</p>\n",
              "</div>"
            ],
            "text/plain": [
              "           PER_CODE Collection Date  Time Vitals  ...  HCO3   PH  Sepsis\n",
              "0                21      2011-01-02        614.0  ...   NaN  NaN       0\n",
              "1                21      2011-01-03        600.0  ...   NaN  NaN       0\n",
              "2                21      2011-01-04       1000.0  ...   NaN  NaN       0\n",
              "3                21      2011-01-05        930.0  ...   NaN  NaN       0\n",
              "4                21      2011-01-06       1130.0  ...   NaN  NaN       0\n",
              "...             ...             ...          ...  ...   ...  ...     ...\n",
              "6536  PCR-004-00018      2013-05-27        600.0  ...   NaN  NaN       0\n",
              "6537  PCR-004-00018      2013-05-28        600.0  ...   NaN  NaN       0\n",
              "6538  PCR-004-00018      2013-05-29        600.0  ...   NaN  NaN       0\n",
              "6539  PCR-004-00018      2013-05-30        600.0  ...   NaN  NaN       0\n",
              "6540  PCR-004-00018      2013-05-31        600.0  ...   NaN  NaN       0\n",
              "\n",
              "[6541 rows x 32 columns]"
            ]
          },
          "metadata": {
            "tags": []
          },
          "execution_count": 3
        }
      ]
    },
    {
      "cell_type": "markdown",
      "metadata": {
        "id": "Dib_zUIG_2D-",
        "colab_type": "text"
      },
      "source": [
        "## Data Preprocessing ##\n"
      ]
    },
    {
      "cell_type": "code",
      "metadata": {
        "id": "_Vh2nuez_teH",
        "colab_type": "code",
        "colab": {}
      },
      "source": [
        "def Drop_nan_row(df):\n",
        "  \n",
        "  drop_idx = []\n",
        "  for i in range(len(df)):\n",
        "    nan_count = 0\n",
        "    for x in df.loc[i]:\n",
        "      if str(x) == 'nan':\n",
        "        nan_count += 1\n",
        "    if nan_count >= 15:\n",
        "      drop_idx.append(i)\n",
        "    \n",
        "  modified_df = df.drop(df.index[drop_idx], errors = 'ignore')\n",
        "  modified_df = modified_df.reset_index(drop = True)\n",
        "\n",
        "  return modified_df"
      ],
      "execution_count": 0,
      "outputs": []
    },
    {
      "cell_type": "code",
      "metadata": {
        "id": "07tBdERtAkMg",
        "colab_type": "code",
        "colab": {}
      },
      "source": [
        "def Drop_unrelated_cols(df):\n",
        "  df = df.drop(columns = ['PER_CODE', 'Collection Date', 'Time Vitals', 'Time Labs', 'Time_CBC', 'Vent'], errors = 'ignore')\n",
        "  return df"
      ],
      "execution_count": 0,
      "outputs": []
    },
    {
      "cell_type": "code",
      "metadata": {
        "id": "7AV5WZumAoZs",
        "colab_type": "code",
        "colab": {}
      },
      "source": [
        "def Drop_nan_col(df):\n",
        "  \n",
        "  num_rows = len(df)\n",
        "  for x in df:\n",
        "    num_nan = 0\n",
        "    for i in df[x]:\n",
        "      if str(i) == 'nan':\n",
        "        num_nan += 1\n",
        "    \n",
        "    if (num_nan/num_rows) >= 0.2:\n",
        "      df = df.drop(columns = x, errors = 'ignore')\n",
        "  \n",
        "  return df"
      ],
      "execution_count": 0,
      "outputs": []
    },
    {
      "cell_type": "code",
      "metadata": {
        "id": "LScRw4gWAt7g",
        "colab_type": "code",
        "colab": {}
      },
      "source": [
        "def Complete_dataset(df):\n",
        "\n",
        "  # Change \"Yes\" and \"No\" under \"Vent\" to 1 and 0\n",
        "  df = df.replace('No', 0)\n",
        "  df = df.replace('Yes', 1)\n",
        "\n",
        "  # drop nan or replace them with other value\n",
        "  df = df.dropna()\n",
        "  df = df.reset_index(drop = True)\n",
        "\n",
        "  return df"
      ],
      "execution_count": 0,
      "outputs": []
    },
    {
      "cell_type": "code",
      "metadata": {
        "id": "h75yiEpAABp-",
        "colab_type": "code",
        "colab": {}
      },
      "source": [
        "def data_preprocess(df):\n",
        "\n",
        "  # drop rows that have too many nan\n",
        "  df = Drop_nan_row(df)\n",
        "  # drop times and patient ids\n",
        "  df = Drop_unrelated_cols(df)\n",
        "  # drop cols that have too many nan\n",
        "  df = Drop_nan_col(df)\n",
        "  # Replace all the other nans\n",
        "  df = Complete_dataset(df)\n",
        "\n",
        "  return df"
      ],
      "execution_count": 0,
      "outputs": []
    },
    {
      "cell_type": "code",
      "metadata": {
        "id": "ypWsMIYjAwwx",
        "colab_type": "code",
        "colab": {}
      },
      "source": [
        "bg = data_preprocess(bg)"
      ],
      "execution_count": 0,
      "outputs": []
    },
    {
      "cell_type": "markdown",
      "metadata": {
        "id": "roPBfZ_UAyIB",
        "colab_type": "text"
      },
      "source": [
        "## Finding Score ##"
      ]
    },
    {
      "cell_type": "code",
      "metadata": {
        "id": "DSbk_nS5A2xr",
        "colab_type": "code",
        "outputId": "e891a528-67b5-486c-c14b-4852d6384efe",
        "colab": {
          "base_uri": "https://localhost:8080/",
          "height": 221
        }
      },
      "source": [
        "pip install -U imbalanced-learn"
      ],
      "execution_count": 10,
      "outputs": [
        {
          "output_type": "stream",
          "text": [
            "Collecting imbalanced-learn\n",
            "\u001b[?25l  Downloading https://files.pythonhosted.org/packages/c8/73/36a13185c2acff44d601dc6107b5347e075561a49e15ddd4e69988414c3e/imbalanced_learn-0.6.2-py3-none-any.whl (163kB)\n",
            "\r\u001b[K     |██                              | 10kB 16.6MB/s eta 0:00:01\r\u001b[K     |████                            | 20kB 4.8MB/s eta 0:00:01\r\u001b[K     |██████                          | 30kB 6.9MB/s eta 0:00:01\r\u001b[K     |████████                        | 40kB 7.6MB/s eta 0:00:01\r\u001b[K     |██████████                      | 51kB 5.3MB/s eta 0:00:01\r\u001b[K     |████████████                    | 61kB 5.9MB/s eta 0:00:01\r\u001b[K     |██████████████                  | 71kB 6.4MB/s eta 0:00:01\r\u001b[K     |████████████████                | 81kB 6.7MB/s eta 0:00:01\r\u001b[K     |██████████████████              | 92kB 7.4MB/s eta 0:00:01\r\u001b[K     |████████████████████            | 102kB 7.2MB/s eta 0:00:01\r\u001b[K     |██████████████████████          | 112kB 7.2MB/s eta 0:00:01\r\u001b[K     |████████████████████████▏       | 122kB 7.2MB/s eta 0:00:01\r\u001b[K     |██████████████████████████▏     | 133kB 7.2MB/s eta 0:00:01\r\u001b[K     |████████████████████████████▏   | 143kB 7.2MB/s eta 0:00:01\r\u001b[K     |██████████████████████████████▏ | 153kB 7.2MB/s eta 0:00:01\r\u001b[K     |████████████████████████████████| 163kB 7.2MB/s \n",
            "\u001b[?25hRequirement already satisfied, skipping upgrade: scipy>=0.17 in /usr/local/lib/python3.6/dist-packages (from imbalanced-learn) (1.4.1)\n",
            "Requirement already satisfied, skipping upgrade: joblib>=0.11 in /usr/local/lib/python3.6/dist-packages (from imbalanced-learn) (0.14.1)\n",
            "Requirement already satisfied, skipping upgrade: scikit-learn>=0.22 in /usr/local/lib/python3.6/dist-packages (from imbalanced-learn) (0.22.1)\n",
            "Requirement already satisfied, skipping upgrade: numpy>=1.11 in /usr/local/lib/python3.6/dist-packages (from imbalanced-learn) (1.17.5)\n",
            "Installing collected packages: imbalanced-learn\n",
            "  Found existing installation: imbalanced-learn 0.4.3\n",
            "    Uninstalling imbalanced-learn-0.4.3:\n",
            "      Successfully uninstalled imbalanced-learn-0.4.3\n",
            "Successfully installed imbalanced-learn-0.6.2\n"
          ],
          "name": "stdout"
        }
      ]
    },
    {
      "cell_type": "code",
      "metadata": {
        "id": "PS_iV-PcA6Ac",
        "colab_type": "code",
        "colab": {}
      },
      "source": [
        "from sklearn.ensemble import RandomForestClassifier\n",
        "from sklearn.model_selection import train_test_split\n",
        "from sklearn.metrics import classification_report\n",
        "from sklearn.preprocessing import RobustScaler\n",
        "from sklearn.preprocessing import MinMaxScaler\n",
        "from sklearn.preprocessing import StandardScaler\n",
        "from sklearn.preprocessing import MaxAbsScaler\n",
        "from sklearn.preprocessing import PowerTransformer\n",
        "from sklearn.preprocessing import QuantileTransformer\n",
        "from sklearn import svm\n",
        "from sklearn.svm import SVR\n",
        "from sklearn.feature_selection import RFE\n",
        "import imblearn"
      ],
      "execution_count": 0,
      "outputs": []
    },
    {
      "cell_type": "code",
      "metadata": {
        "id": "aHlMA0GJLGZJ",
        "colab_type": "code",
        "colab": {}
      },
      "source": [
        "# def Scores_calculation(train_x, train_y, test_x, test_y):\n",
        "#   precision_scores = [[],[]]\n",
        "#   recall_scores = [[],[]]\n",
        "#   f1_score_scores = [[],[]]\n",
        "\n",
        "#   model = RandomForestClassifier()\n",
        "#   for i in range(0,10):\n",
        "#     model.fit(train_x, train_y)\n",
        "#     predictions = model.predict(test_x)\n",
        "#     report = classification_report(test_y, predictions, output_dict = True)\n",
        "\n",
        "#     precision_scores[0].append(report['0']['precision'])\n",
        "#     recall_scores[0].append(report['0']['recall'])\n",
        "#     f1_score_scores[0].append(report['0']['f1-score'])\n",
        "    \n",
        "#     precision_scores[1].append(report['1']['precision'])\n",
        "#     recall_scores[1].append(report['1']['recall'])\n",
        "#     f1_score_scores[1].append(report['1']['f1-score'])\n",
        "\n",
        "#   precision_scores_avg_0 = sum(precision_scores[0]) / 10\n",
        "#   recall_scores_avg_0 = sum(recall_scores[0]) / 10\n",
        "#   f1_score_scores_avg_0 = sum(f1_score_scores[0]) / 10\n",
        "\n",
        "#   precision_scores_avg_1 = sum(precision_scores[1]) / 10\n",
        "#   recall_scores_avg_1 = sum(recall_scores[1]) / 10\n",
        "#   f1_score_scores_avg_1 = sum(f1_score_scores[1]) / 10\n",
        "\n",
        "#   # print('0 precision average', precision_scores_avg_0)\n",
        "#   # print('1 precision average', precision_scores_avg_1)\n",
        "#   # print('0 recall average', recall_scores_avg_0)\n",
        "#   # print('1 recall average', recall_scores_avg_1)\n",
        "#   # print('0 f1_socre average', f1_score_scores_avg_0)\n",
        "#   # print('1 f1_socre average', f1_score_scores_avg_1)\n",
        "#   # print('average f1_scores', (f1_score_scores_avg_0 + f1_score_scores_avg_1)/2)\n",
        "\n",
        "#   return (f1_score_scores_avg_0 + f1_score_scores_avg_1)/2"
      ],
      "execution_count": 0,
      "outputs": []
    },
    {
      "cell_type": "markdown",
      "metadata": {
        "id": "h3qPm9yuRsdS",
        "colab_type": "text"
      },
      "source": [
        "## Getting Best Features ##"
      ]
    },
    {
      "cell_type": "markdown",
      "metadata": {
        "id": "JkCz1NvJlgOd",
        "colab_type": "text"
      },
      "source": [
        "### Progressive Selection ###"
      ]
    },
    {
      "cell_type": "code",
      "metadata": {
        "colab_type": "code",
        "id": "viMlbAZ2QvL8",
        "colab": {}
      },
      "source": [
        "# model = RandomForestClassifier()\n",
        "# x = bg[['Hct', 'Platelet', 'WBC', 'Glucose']].values\n",
        "# y = bg['Sepsis'].values\n",
        "# train_x, test_x, train_y, test_y = train_test_split(x, y, test_size=0.2, random_state=0)\n",
        "\n",
        "# scaler = RobustScaler()\n",
        "# train_x = scaler.fit_transform(train_x)\n",
        "# test_x = scaler.transform(test_x)\n",
        "\n",
        "# n_minority = len(train_y[train_y == 1])\n",
        "# n_majority = int(n_minority * 2.5)\n",
        "# sampling_numbers = {0: n_majority, 1: n_minority}\n",
        "\n",
        "# rus = imblearn.under_sampling.RandomUnderSampler(sampling_strategy=sampling_numbers)\n",
        "# train_x_rus, train_y_rus = rus.fit_resample(train_x, train_y)\n",
        "# train_y_rus = pd.Series(train_y_rus)\n",
        "  \n",
        "# score = Scores_calculation(train_x_rus, train_y_rus, test_x, test_y)\n",
        "# print(score)"
      ],
      "execution_count": 0,
      "outputs": []
    },
    {
      "cell_type": "code",
      "metadata": {
        "id": "R9qrPzKWdIto",
        "colab_type": "code",
        "colab": {}
      },
      "source": [
        "# model = RandomForestClassifier()\n",
        "# temp = list(bg.columns)\n",
        "# temp.remove('Hct')\n",
        "# temp.remove('Platelet')\n",
        "# temp.remove('WBC')\n",
        "# temp.remove('Sepsis')\n",
        "# temp.remove('Temp')\n",
        "# temp.remove('RR')\n",
        "# temp.remove('HR')\n",
        "# col_use = ['Hct', 'Platelet', 'WBC', 'Temp', 'RR', 'HR']\n",
        "\n",
        "# for f in temp:\n",
        "#   g = [f]\n",
        "#   g = col_use + g\n",
        "\n",
        "#   x = bg[g].values\n",
        "#   y = bg['Sepsis'].values\n",
        "#   train_x, test_x, train_y, test_y = train_test_split(x, y, test_size=0.2, random_state=0)\n",
        "\n",
        "#   scaler = RobustScaler()\n",
        "#   train_x = scaler.fit_transform(train_x)\n",
        "#   test_x = scaler.transform(test_x)\n",
        "\n",
        "#   n_minority = len(train_y[train_y == 1])\n",
        "#   n_majority = int(n_minority * 2.5)\n",
        "#   sampling_numbers = {0: n_majority, 1: n_minority}\n",
        "\n",
        "#   rus = imblearn.under_sampling.RandomUnderSampler(sampling_strategy=sampling_numbers)\n",
        "#   train_x_rus, train_y_rus = rus.fit_resample(train_x, train_y)\n",
        "#   train_y_rus = pd.Series(train_y_rus)\n",
        "  \n",
        "#   score = Scores_calculation(train_x_rus, train_y_rus, test_x, test_y)\n",
        "#   print(g,':',score)\n",
        "  "
      ],
      "execution_count": 0,
      "outputs": []
    },
    {
      "cell_type": "markdown",
      "metadata": {
        "id": "xuJxAe5aldKd",
        "colab_type": "text"
      },
      "source": [
        "Best feature combination: ['Hct', 'Platelet', 'WBC', 'Temp', 'RR', 'HR']"
      ]
    },
    {
      "cell_type": "markdown",
      "metadata": {
        "id": "dUXgJR7ilt0P",
        "colab_type": "text"
      },
      "source": [
        "### Regressive Selection ###"
      ]
    },
    {
      "cell_type": "code",
      "metadata": {
        "id": "nsjxABy-lx8A",
        "colab_type": "code",
        "colab": {}
      },
      "source": [
        "# from sklearn.feature_selection import RFE\n",
        "\n",
        "# col = list(bg.columns)\n",
        "# col.remove('Sepsis')\n",
        "# x = bg[col].values\n",
        "# y = bg['Sepsis'].values\n",
        "# train_x, test_x, train_y, test_y = train_test_split(x, y, test_size=0.2, random_state=0)\n",
        "\n",
        "# scaler = RobustScaler()\n",
        "# train_x = scaler.fit_transform(train_x)\n",
        "# test_x = scaler.transform(test_x)\n",
        "\n",
        "# n_minority = len(train_y[train_y == 1])\n",
        "# n_majority = int(n_minority * 2.5)\n",
        "# sampling_numbers = {0: n_majority, 1: n_minority}\n",
        "\n",
        "# rus = imblearn.under_sampling.RandomUnderSampler(sampling_strategy=sampling_numbers)\n",
        "# train_x_rus, train_y_rus = rus.fit_resample(train_x, train_y)\n",
        "# train_y_rus = pd.Series(train_y_rus)\n",
        "\n",
        "# estimator = RandomForestClassifier()\n",
        "# selector = RFE(estimator, 3, step=1)\n",
        "# selector = selector.fit(train_x_rus, train_y_rus)\n",
        "\n",
        "# new_train_x = train_x[:, selector.support_]\n",
        "# new_test_x = test_x[:, selector.support_]\n",
        "\n",
        "# model = RandomForestClassifier()\n",
        "\n",
        "# f1_score_scores = [[],[]]\n",
        "\n",
        "# model = RandomForestClassifier()\n",
        "# for i in range(0,10):\n",
        "#   model.fit(new_train_x, train_y)\n",
        "#   predictions = model.predict(new_test_x)\n",
        "#   report = classification_report(test_y, predictions, output_dict = True)\n",
        "\n",
        "#   f1_score_scores[0].append(report['0']['f1-score'])\n",
        "#   f1_score_scores[1].append(report['1']['f1-score'])\n",
        "#   f1_score_scores_avg_0 = sum(f1_score_scores[0]) / 10\n",
        "#   f1_score_scores_avg_1 = sum(f1_score_scores[1]) / 10\n",
        "\n",
        "# print((f1_score_scores_avg_0 + f1_score_scores_avg_1)/2)"
      ],
      "execution_count": 0,
      "outputs": []
    },
    {
      "cell_type": "markdown",
      "metadata": {
        "id": "8vYmAFDP5wzC",
        "colab_type": "text"
      },
      "source": [
        "3 features: f1_score = 0.5483979297526201 \\\\\n",
        "4 features: f1_score = 0.5807557454179925 \\\\\n",
        "5 features: f1_score = 0.5788802053854059 \\\\\n",
        "6 features: f1_score = 0.5769307206585933 \\\\\n",
        "7 features: f1_score = 0.5722500953954065"
      ]
    },
    {
      "cell_type": "markdown",
      "metadata": {
        "id": "h7mJ-d847ZWB",
        "colab_type": "text"
      },
      "source": [
        "Random Under Sampling"
      ]
    },
    {
      "cell_type": "markdown",
      "metadata": {
        "id": "SSgkYfshB9IU",
        "colab_type": "text"
      },
      "source": [
        "## Best features + SVM + RFE + RobustScaler##\n",
        "\n",
        "\n"
      ]
    },
    {
      "cell_type": "code",
      "metadata": {
        "id": "taAaoiRN7jN7",
        "colab_type": "code",
        "outputId": "98be91dd-3cd7-42d2-ac7f-661418d8cfd6",
        "colab": {
          "base_uri": "https://localhost:8080/",
          "height": 68
        }
      },
      "source": [
        "x = bg[['Hct', 'Platelet', 'WBC', 'Temp', 'RR', 'HR']].values\n",
        "y = bg['Sepsis'].values\n",
        "\n",
        "train_x, test_x, train_y, test_y = train_test_split(x, y, test_size=0.2, random_state=0)\n",
        "\n",
        "scaler = RobustScaler()\n",
        "train_x = scaler.fit_transform(train_x)\n",
        "test_x = scaler.transform(test_x) # change this to change test_x\n",
        "\n",
        "n_minority = len(train_y[train_y == 1])\n",
        "n_majority = int(n_minority * 2.5)\n",
        "sampling_numbers = {0: n_majority, 1: n_minority}\n",
        "\n",
        "rus = imblearn.under_sampling.RandomUnderSampler(sampling_strategy=sampling_numbers)\n",
        "train_x_rus, train_y_rus = rus.fit_resample(train_x, train_y)\n",
        "train_y_rus = pd.Series(train_y_rus)\n",
        "\n",
        "f1_score_scores = [[],[]]\n",
        "sensitivity = []\n",
        "specificity = []\n",
        "\n",
        "# RFE: Feature ranking with recursive feature elimination.\n",
        "# SVM is a classifier -> predicting discrete categorical labels\n",
        "# SVR, which stands for Support Vector Regressor, is a regressor\n",
        "# SVR for continuous data, SVC for discrete data\n",
        "# SVM for discrete\n",
        "model = svm.SVC(kernel=\"linear\", probability=True)\n",
        "#model = RFE(estimator, 5, step=1)\n",
        "\n",
        "for i in range(0,10):\n",
        "  model.fit(train_x_rus, train_y_rus)\n",
        "  predictions = model.predict(test_x) # problem?  \n",
        "  report = classification_report(test_y, predictions, output_dict = True)\n",
        "  ss = imblearn.metrics.sensitivity_specificity_support(test_y, predictions, average='macro')\n",
        "  \n",
        "  sensitivity.append(ss[0])\n",
        "  specificity.append(ss[1])\n",
        "\n",
        "  # F1 score: weighted average of the precision and recall\n",
        "  f1_score_scores[0].append(report['0']['f1-score'])\n",
        "  f1_score_scores[1].append(report['1']['f1-score'])\n",
        "\n",
        "f1_score_scores_avg_0 = sum(f1_score_scores[0]) / 10\n",
        "f1_score_scores_avg_1 = sum(f1_score_scores[1]) / 10\n",
        "sensitivity_avg = sum(sensitivity) / 10\n",
        "specificity_avg = sum(specificity) / 10\n",
        "\n",
        "print(\"f1 score = \", (f1_score_scores_avg_0 + f1_score_scores_avg_1)/2)\n",
        "print(\"sensitivity = \", sensitivity_avg)\n",
        "print(\"specificity = \", specificity_avg)"
      ],
      "execution_count": 12,
      "outputs": [
        {
          "output_type": "stream",
          "text": [
            "f1 score =  0.45563674321503134\n",
            "sensitivity =  0.5\n",
            "specificity =  0.5\n"
          ],
          "name": "stdout"
        }
      ]
    },
    {
      "cell_type": "code",
      "metadata": {
        "id": "IZYLX7D97mat",
        "colab_type": "code",
        "outputId": "171988ca-8b2f-451c-8a16-141c9e3dfec9",
        "colab": {
          "base_uri": "https://localhost:8080/",
          "height": 312
        }
      },
      "source": [
        "from sklearn.metrics import roc_curve, roc_auc_score\n",
        "\n",
        "y_score = model.predict_proba(test_x)[:,1]\n",
        "false_positive_rate, true_positive_rate, threshold = roc_curve(test_y, y_score)\n",
        "print('roc_auc_score = ', roc_auc_score(test_y, y_score))\n",
        "\n",
        "plt.title('ROC Curve')\n",
        "plt.plot(false_positive_rate, true_positive_rate)\n",
        "plt.plot([0, 1], ls=\"--\")\n",
        "plt.plot([0, 0], [1, 0] , c=\".7\"), plt.plot([1, 1] , c=\".7\")\n",
        "plt.ylabel('True Positive Rate')\n",
        "plt.xlabel('False Positive Rate')\n",
        "plt.show()"
      ],
      "execution_count": 0,
      "outputs": [
        {
          "output_type": "stream",
          "text": [
            "roc_auc_score =  0.504002425712553\n"
          ],
          "name": "stdout"
        },
        {
          "output_type": "display_data",
          "data": {
            "image/png": "[encoded data removed]",
            "text/plain": [
              "<Figure size 432x288 with 1 Axes>"
            ]
          },
          "metadata": {
            "tags": []
          }
        }
      ]
    },
    {
      "cell_type": "markdown",
      "metadata": {
        "id": "5XCOlKVp7dNi",
        "colab_type": "text"
      },
      "source": [
        "Random Over Sampling"
      ]
    },
    {
      "cell_type": "code",
      "metadata": {
        "id": "6Ln2psI-7iNK",
        "colab_type": "code",
        "outputId": "cc461b0d-b7f8-4e58-fbbc-b198123b25f9",
        "colab": {
          "base_uri": "https://localhost:8080/",
          "height": 70
        }
      },
      "source": [
        "x = bg[['Hct', 'Platelet', 'WBC', 'Temp', 'RR', 'HR']].values\n",
        "y = bg['Sepsis'].values\n",
        "\n",
        "train_x, test_x, train_y, test_y = train_test_split(x, y, test_size=0.2, random_state=0)\n",
        "\n",
        "scaler = RobustScaler()\n",
        "train_x = scaler.fit_transform(train_x)\n",
        "test_x = scaler.transform(test_x)\n",
        "\n",
        "n_minority = len(train_y[train_y == 1])\n",
        "n_majority = int(n_minority * 40)\n",
        "sampling_numbers = {0: n_majority, 1: n_minority}\n",
        "\n",
        "ros = imblearn.over_sampling.RandomOverSampler(sampling_strategy=sampling_numbers)\n",
        "train_x_ros, train_y_ros = ros.fit_resample(train_x, train_y)\n",
        "train_y_ros = pd.Series(train_y_ros)\n",
        "\n",
        "f1_score_scores = [[],[]]\n",
        "sensitivity = []\n",
        "specificity = []\n",
        "\n",
        "# RFE: Feature ranking with recursive feature elimination.\n",
        "# SVM is a classifier -> predicting discrete categorical labels\n",
        "# SVR, which stands for Support Vector Regressor, is a regressor\n",
        "# SVR for continuous data, SVC for discrete data\n",
        "# SVM for discrete\n",
        "estimator = svm.SVC(kernel=\"linear\", probability=True)\n",
        "model = RFE(estimator, 5, step=1)\n",
        "\n",
        "for i in range(0,10):\n",
        "  model.fit(train_x_ros, train_y_ros)\n",
        "  predictions = model.predict(test_x)\n",
        "  report = classification_report(test_y, predictions, output_dict = True)\n",
        "  ss = imblearn.metrics.sensitivity_specificity_support(test_y, predictions, average='macro')\n",
        "  \n",
        "  sensitivity.append(ss[0])\n",
        "  specificity.append(ss[1])\n",
        "\n",
        "  # F1 score: weighted average of the precision and recall\n",
        "  f1_score_scores[0].append(report['0']['f1-score'])\n",
        "  f1_score_scores[1].append(report['1']['f1-score'])\n",
        "\n",
        "f1_score_scores_avg_0 = sum(f1_score_scores[0]) / 10\n",
        "f1_score_scores_avg_1 = sum(f1_score_scores[1]) / 10\n",
        "sensitivity_avg = sum(sensitivity) / 10\n",
        "specificity_avg = sum(specificity) / 10\n",
        "\n",
        "print(\"f1 score = \", (f1_score_scores_avg_0 + f1_score_scores_avg_1)/2)\n",
        "print(\"sensitivity = \", sensitivity_avg)\n",
        "print(\"specificity = \", specificity_avg)"
      ],
      "execution_count": 0,
      "outputs": [
        {
          "output_type": "stream",
          "text": [
            "f1 score =  0.45563674321503134\n",
            "sensitivity =  0.5\n",
            "specificity =  0.5\n"
          ],
          "name": "stdout"
        }
      ]
    },
    {
      "cell_type": "code",
      "metadata": {
        "id": "XvtK4W117lbU",
        "colab_type": "code",
        "outputId": "8f530282-7d49-4b1b-d85a-f8f4b5b975ef",
        "colab": {
          "base_uri": "https://localhost:8080/",
          "height": 312
        }
      },
      "source": [
        "from sklearn.metrics import roc_curve, roc_auc_score\n",
        "\n",
        "y_score = model.predict_proba(test_x)[:,1]\n",
        "false_positive_rate, true_positive_rate, threshold = roc_curve(test_y, y_score)\n",
        "print('roc_auc_score = ', roc_auc_score(test_y, y_score))\n",
        "\n",
        "plt.title('ROC Curve')\n",
        "plt.plot(false_positive_rate, true_positive_rate)\n",
        "plt.plot([0, 1], ls=\"--\")\n",
        "plt.plot([0, 0], [1, 0] , c=\".7\"), plt.plot([1, 1] , c=\".7\")\n",
        "plt.ylabel('True Positive Rate')\n",
        "plt.xlabel('False Positive Rate')\n",
        "plt.show()"
      ],
      "execution_count": 0,
      "outputs": [
        {
          "output_type": "stream",
          "text": [
            "roc_auc_score =  0.42074658041910923\n"
          ],
          "name": "stdout"
        },
        {
          "output_type": "display_data",
          "data": {
            "image/png": "[encoded data removed]",
            "text/plain": [
              "<Figure size 432x288 with 1 Axes>"
            ]
          },
          "metadata": {
            "tags": []
          }
        }
      ]
    },
    {
      "cell_type": "markdown",
      "metadata": {
        "id": "gaxA52ta7e6i",
        "colab_type": "text"
      },
      "source": [
        "SMOTE"
      ]
    },
    {
      "cell_type": "code",
      "metadata": {
        "id": "Tn0VP_1B2RqL",
        "colab_type": "code",
        "outputId": "6ea086f5-6470-4371-af74-a9950bf21fa6",
        "colab": {
          "base_uri": "https://localhost:8080/",
          "height": 70
        }
      },
      "source": [
        "x = bg[['Hct', 'Platelet', 'WBC', 'Temp', 'RR', 'HR']].values\n",
        "y = bg['Sepsis'].values\n",
        "\n",
        "train_x, test_x, train_y, test_y = train_test_split(x, y, test_size=0.2, random_state=0)\n",
        "\n",
        "scaler = RobustScaler()\n",
        "train_x = scaler.fit_transform(train_x)\n",
        "test_x = scaler.transform(test_x)\n",
        "\n",
        "n_minority = len(train_y[train_y == 1])\n",
        "n_majority = int(n_minority * 80)\n",
        "sampling_numbers = {0: n_majority, 1: n_minority}\n",
        "\n",
        "smote = imblearn.over_sampling.SMOTE(sampling_strategy=sampling_numbers)\n",
        "train_x_smote, train_y_smote = smote.fit_resample(train_x, train_y)\n",
        "train_y_smote = pd.Series(train_y_smote)\n",
        "\n",
        "f1_score_scores = [[],[]]\n",
        "sensitivity = []\n",
        "specificity = []\n",
        "\n",
        "# RFE: Feature ranking with recursive feature elimination.\n",
        "# SVM is a classifier -> predicting discrete categorical labels\n",
        "# SVR, which stands for Support Vector Regressor, is a regressor\n",
        "# SVR for continuous data, SVC for discrete data\n",
        "# SVM for discrete\n",
        "estimator = svm.SVC(kernel=\"linear\", probability=True)\n",
        "model = RFE(estimator, 5, step=1)\n",
        "\n",
        "for i in range(0,10):\n",
        "  model.fit(train_x_smote, train_y_smote)\n",
        "  predictions = model.predict(test_x)\n",
        "  report = classification_report(test_y, predictions, output_dict = True)\n",
        "  ss = imblearn.metrics.sensitivity_specificity_support(test_y, predictions, average='macro')\n",
        "  \n",
        "  sensitivity.append(ss[0])\n",
        "  specificity.append(ss[1])\n",
        "\n",
        "  # F1 score: weighted average of the precision and recall\n",
        "  f1_score_scores[0].append(report['0']['f1-score'])\n",
        "  f1_score_scores[1].append(report['1']['f1-score'])\n",
        "\n",
        "f1_score_scores_avg_0 = sum(f1_score_scores[0]) / 10\n",
        "f1_score_scores_avg_1 = sum(f1_score_scores[1]) / 10\n",
        "sensitivity_avg = sum(sensitivity) / 10\n",
        "specificity_avg = sum(specificity) / 10\n",
        "\n",
        "print(\"f1 score = \", (f1_score_scores_avg_0 + f1_score_scores_avg_1)/2)\n",
        "print(\"sensitivity = \", sensitivity_avg)\n",
        "print(\"specificity = \", specificity_avg)\n"
      ],
      "execution_count": 0,
      "outputs": [
        {
          "output_type": "stream",
          "text": [
            "f1 score =  0.45563674321503134\n",
            "sensitivity =  0.5\n",
            "specificity =  0.5\n"
          ],
          "name": "stdout"
        }
      ]
    },
    {
      "cell_type": "code",
      "metadata": {
        "colab_type": "code",
        "outputId": "16a41bd2-1b87-418e-d8bd-063553ee4e29",
        "id": "X4qvESaAZ-JL",
        "colab": {
          "base_uri": "https://localhost:8080/",
          "height": 312
        }
      },
      "source": [
        "from sklearn.metrics import roc_curve, roc_auc_score\n",
        "\n",
        "y_score = model.predict_proba(test_x)[:,1]\n",
        "false_positive_rate, true_positive_rate, threshold = roc_curve(test_y, y_score)\n",
        "print('roc_auc_score = ', roc_auc_score(test_y, y_score))\n",
        "\n",
        "plt.title('ROC Curve')\n",
        "plt.plot(false_positive_rate, true_positive_rate)\n",
        "plt.plot([0, 1], ls=\"--\")\n",
        "plt.plot([0, 0], [1, 0] , c=\".7\"), plt.plot([1, 1] , c=\".7\")\n",
        "plt.ylabel('True Positive Rate')\n",
        "plt.xlabel('False Positive Rate')\n",
        "plt.show()"
      ],
      "execution_count": 0,
      "outputs": [
        {
          "output_type": "stream",
          "text": [
            "roc_auc_score =  0.5402735664712621\n"
          ],
          "name": "stdout"
        },
        {
          "output_type": "display_data",
          "data": {
            "image/png": "[encoded data removed]",
            "text/plain": [
              "<Figure size 432x288 with 1 Axes>"
            ]
          },
          "metadata": {
            "tags": []
          }
        }
      ]
    },
    {
      "cell_type": "markdown",
      "metadata": {
        "id": "UNyLeTJnxl2V",
        "colab_type": "text"
      },
      "source": [
        "###RUS###"
      ]
    },
    {
      "cell_type": "markdown",
      "metadata": {
        "id": "L8BXi8-tQqIT",
        "colab_type": "text"
      },
      "source": [
        "**Max f1 score ~0.62 ; Max roc_auc_score ~0.69**\n",
        "\n",
        "---\n",
        "StandardScaler()  \n",
        "Linear\n",
        "*   0.1 test_size: f1 score =  \n",
        "*   0.2 test_size: f1 score =  0.45563674321503134\n",
        "*   0.3 test_size: f1 score =  \n",
        "*   0.4 test_size: f1 score =  \n",
        "*   0.5 test_size: f1 score =  0.4602649006622516\n",
        "*   0.6 test_size: f1 score =  \n",
        "*   0.7 test_size: f1 score =  \n",
        "*   0.8 test_size: f1 score =  \n",
        "*   0.9 test_size: f1 score =  0.46237544382086815 ; roc_auc_score =  0.6221264189051878\n",
        "\n",
        "sigmoid (changes each time unlike linear)\n",
        "*   0.1 test_size: f1 score =  ;\n",
        "*   0.2 test_size: f1 score =  ;\n",
        "*   0.3 test_size: f1 score =  ;\n",
        "*   0.4 test_size: f1 score =  ;\n",
        "*   0.5 test_size: f1 score =  f1 score =  0.5191814975438378 ; roc_auc_score =  0.5458744332658872\n",
        "*   0.6 test_size: f1 score =  ;\n",
        "*   0.7 test_size: f1 score =  ;\n",
        "*   0.8 test_size: f1 score =  ;\n",
        "*  0.9 test_size: f1 score =  f1 score =  0.5325737246934639 ; roc_auc_score =  0.5342142301783573\n",
        "\n",
        "---\n",
        "MinMaxScaler()                                                                                    \n",
        "Linear\n",
        "*   0.1 test_size: f1 score =  0.46130030959752333\n",
        "*   0.2 test_size: f1 score =  0.45563674321503134\n",
        "*   0.3 test_size: f1 score =  0.4603448275862069\n",
        "*   0.4 test_size: f1 score =  0.46028460543337635\n",
        "*   0.5 test_size: f1 score =  0.4602649006622516 \n",
        "*   0.6 test_size: f1 score =  0.4607961399276236\n",
        "*   0.7 test_size: f1 score =  0.4616632261869655\n",
        "*   0.8 test_size: f1 score =  0.4621632074255511\n",
        "*   0.9 test_size: f1 score =  0.46237544382086815 ; roc_auc_score =  0.5693158300937032\n",
        "\n",
        "sigmoid (changes each time unlike linear)\n",
        "*   0.1 test_size: f1 score =  ;\n",
        "*   0.2 test_size: f1 score =  ;\n",
        "*   0.3 test_size: f1 score =  ;\n",
        "*   0.4 test_size: f1 score =  ;\n",
        "*   0.5 test_size: f1 score =  f1 score =  0.4946494994056566 ; roc_auc_score =  0.5025380086555755\n",
        "*   0.6 test_size: f1 score =  ;\n",
        "*   0.7 test_size: f1 score =  ;\n",
        "*   0.8 test_size: f1 score =  ;\n",
        "*  0.9 test_size: f1 score =   f1 score =  0.46237544382086815; roc_auc_score =  0.5641278976167559\n",
        "\n",
        "---\n",
        "MaxAbsScaler()\n",
        "\n",
        "Linear\n",
        "*   0.1 test_size: f1 score =  \n",
        "*   0.2 test_size: f1 score =  0.45563674321503134\n",
        "*   0.3 test_size: f1 score =  \n",
        "*   0.4 test_size: f1 score =  \n",
        "*   0.5 test_size: f1 score =  \n",
        "*   0.6 test_size: f1 score =  \n",
        "*   0.7 test_size: f1 score =  \n",
        "*   0.8 test_size: f1 score =  \n",
        "*   0.9 test_size: f1 score =  0.46237544382086815 ; roc_auc_score =  0.5716119426507243\n",
        "\n",
        "sigmoid (changes each time unlike linear)\n",
        "*   0.1 test_size: f1 score =  ;\n",
        "*   0.2 test_size: f1 score =  ;\n",
        "*   0.3 test_size: f1 score =  ;\n",
        "*   0.4 test_size: f1 score =  ;\n",
        "*   0.5 test_size: f1 score =  f1 score =  0.4602649006622516 ; roc_auc_score =  0.508761545451139\n",
        "*   0.6 test_size: f1 score =  ;\n",
        "*   0.7 test_size: f1 score =  ;\n",
        "*   0.8 test_size: f1 score =  ;\n",
        "*  0.9 test_size: f1 score =   ;\n",
        "\n",
        "---\n",
        "RobustScaler()\n",
        "\n",
        "Linear\n",
        "*   0.1 test_size: f1 score =  \n",
        "*   0.2 test_size: f1 score =  0.45563674321503134\n",
        "*   0.3 test_size: f1 score =  \n",
        "*   0.4 test_size: f1 score =  \n",
        "*   0.5 test_size: f1 score =  \n",
        "*   0.6 test_size: f1 score =  0.4607961399276236 ; roc_auc_score =  0.6092428513894482\n",
        "*   0.7 test_size: f1 score =  \n",
        "*   0.8 test_size: f1 score =  \n",
        "*   0.9 test_size: f1 score =  0.46237544382086815 ; roc_auc_score =  **0.6456016248483868**  (f1 score same every rerun but roc_auc_score changes)\n",
        "*   9 test_size: f1 score =  \n",
        "\n",
        "Poly\n",
        "*   0.1 test_size: f1 score = 0.47633269144286977 ; roc_auc_score =  0.5585682326621924\n",
        "*   0.2 test_size: f1 score =  0.5300647169656755 ; roc_auc_score =  0.6301832760595647\n",
        "*   0.3 test_size: f1 score =  0.5485203799423982 ; roc_auc_score =  0.622480052108777\n",
        "*   0.4 test_size: f1 score =  0.5310767275741736 ; roc_auc_score =  0.39136652183545634\n",
        "*   0.5 test_size: f1 score =  0.5473666028911565 ; roc_auc_score =  0.6383364011915468\n",
        "*   0.6 test_size: f1 score =  0.5510387067000565; roc_auc_score =  0.627087460034356\n",
        "*   0.7 test_size: **f1 score =  0.5597353368321161 ; roc_auc_score =  0.6393125199616735**\n",
        "*   0.8 test_size: f1 score =  0.5521906701813244 ; roc_auc_score =  0.6177497570560659\n",
        "*   0.9 test_size: f1 score =  0.5445732222249821 ; roc_auc_score = roc_auc_score =  roc_auc_score =  0.383419908438607\n",
        "*   9 test_size: f1 score =  0.47058823529411764 ; roc_auc_score =  0.625 (weird graph)\n",
        "\n",
        "rbf\n",
        "*   0.1 test_size: f1 score =  0.5545147995503934 ; roc_auc_score =  0.6047129008202834\n",
        "*  **0.2 test_size: f1 score =  0.5929992948634569 ; roc_auc_score =  0.6524560339599758**\n",
        "*   0.3 test_size: f1 score =  0.5810169665139495; roc_auc_score =  **0.6848086630841882**\n",
        "*   0.4 test_size: f1 score =  0.5602990168727221; roc_auc_score =  0.6392164832931431\n",
        "*   0.5 test_size: f1 score =  0.5763794001309245; roc_auc_score =  0.6436495334982014\n",
        "*   0.6 test_size: f1 score =  0.5156116669816327; roc_auc_score =  0.662561335448396\n",
        "*   0.7 test_size: f1 score =  0.5696377980920485 ; roc_auc_score =  0.653539051175589\n",
        "*   0.8 test_size: f1 score =  0.5856427106933392 ; roc_auc_score =  0.653539051175589\n",
        "*   0.9 test_size: f1 score =  0.5560158903558627 ; roc_auc_score = roc_auc_score =  0.6602026762341794 \n",
        "*   9 test_size: f1 score =  0.47058823529411764\n",
        "*   1000 test_size: f1 score =  0.5570351246687955 ; roc_auc_score =  0.6724271185461269\n",
        "\n",
        "n_minority * 2\n",
        "*   0.3 test_size: f1 score =  0.6271494154290176 ; roc_auc_score =  0.6765429083211203\n",
        "\n",
        "n_minority * 1.5\n",
        "*   0.2 test_size: f1 score =  0.6313219934915585 ; roc_auc_score =  0.6800384071154234\n",
        "*   0.3 test_size: **f1 score =  0.6287053155865038; roc_auc_score =  0.6934147532975083**\n",
        "*   0.3 test_size: f1 score =  0.6186412865113227 ; roc_auc_score =  0.7007821967610444\n",
        "\n",
        "sigmoid (changes each time unlike linear)\n",
        "*   0.1 test_size: f1 score =  0.5013969482054589\n",
        "*   0.2 test_size: f1 score =  0.5142429586874032\n",
        "*   0.3 test_size: f1 score =  0.523319624726899\n",
        "*   0.4 test_size: f1 score =  0.5270204378711177\n",
        "*   **0.5 test_size: f1 score =  0.5359314286678617**\n",
        "*   0.6 test_size: f1 score =  0.538059820921319\n",
        "*   0.7 test_size: f1 score =  0.5142999814911929\n",
        "*   0.8 test_size: f1 score =  0.4973805976886962\n",
        "*  0.9 test_size: f1 score =   0.5288918158405201\n",
        "*  9 test_size:   f1 score =  0.4375\n",
        "*  999 test_size:   f1 score = 0.53994708994709 ; roc_auc_score =  0.5450541662448112\n",
        "\n",
        "\n",
        "---\n",
        "PowerTransformer()\n",
        "Linear\n",
        "*   0.1 test_size: f1 score =  \n",
        "*   0.2 test_size: f1 score =  0.45563674321503134\n",
        "*   0.3 test_size: f1 score =  \n",
        "*   0.4 test_size: f1 score =  \n",
        "*   0.5 test_size: f1 score =  \n",
        "*   0.6 test_size: f1 score =  \n",
        "*   0.7 test_size: f1 score =  \n",
        "*   0.8 test_size: f1 score =  \n",
        "*   0.9 test_size: f1 score =  0.46237544382086815 ; roc_auc_score =  0.5755157110276367\n",
        "\n",
        "sigmoid (changes each time unlike linear)\n",
        "*   0.1 test_size: f1 score =  ;\n",
        "*   0.2 test_size: f1 score =  ;\n",
        "*   0.3 test_size: f1 score =  ;\n",
        "*   0.4 test_size: f1 score =  ;\n",
        "*   0.5 test_size: f1 score =  f1 score =  0.5177548442918647 ; roc_auc_score =  0.486890760828837\n",
        "*   0.6 test_size: f1 score =  ;\n",
        "*   0.7 test_size: f1 score =  ;\n",
        "*   0.8 test_size: f1 score =  ;\n",
        "*  0.9 test_size: f1 score =   f1 score =  0.503991162626158; roc_auc_score =  0.5201247290568332\n",
        "\n",
        "\n",
        "---\n",
        "QuantileTransformer()\n",
        "Linear\n",
        "*   0.1 test_size: f1 score =  \n",
        "*   0.2 test_size: f1 score =  0.45563674321503134\n",
        "*   0.3 test_size: f1 score =  \n",
        "*   0.4 test_size: f1 score =  \n",
        "*   0.5 test_size: f1 score =  \n",
        "*   0.6 test_size: f1 score =  \n",
        "*   0.7 test_size: f1 score =  \n",
        "*   0.8 test_size: f1 score =  \n",
        "*   0.9 test_size: f1 score =  0.46237544382086815 ; roc_auc_score =  0.6181020009357884\n",
        "*   9 test_size: f1 score =  0.47058823529411764 ;\n",
        "\n",
        "sigmoid (changes each time unlike linear)\n",
        "*   0.1 test_size: f1 score =  ;\n",
        "*   0.2 test_size: f1 score =  ;\n",
        "*   0.3 test_size: f1 score =  ;\n",
        "*   0.4 test_size: f1 score =  ;\n",
        "*   0.5 test_size: f1 score =  f1 score =  0.49272039290382863 ; roc_auc_score =  0.4941195481115107\n",
        "*   0.6 test_size: f1 score =  ;\n",
        "*   0.7 test_size: f1 score =  ;\n",
        "*   0.8 test_size: f1 score =  ;\n",
        "*  0.9 test_size: f1 score =   f1 score =  0.4902198249673151 ; roc_auc_score =  0.5226466825697911\n"
      ]
    },
    {
      "cell_type": "code",
      "metadata": {
        "id": "X1fUpeSnMZs6",
        "colab_type": "code",
        "colab": {
          "base_uri": "https://localhost:8080/",
          "height": 68
        },
        "outputId": "bc8478e4-3a0b-48f9-a727-a92b4053d68b"
      },
      "source": [
        "x = bg[['Hct', 'Platelet', 'WBC', 'Temp', 'RR', 'HR']].values\n",
        "y = bg['Sepsis'].values\n",
        "\n",
        "train_x, test_x, train_y, test_y = train_test_split(x, y, test_size=0.2, random_state=0)\n",
        "\n",
        "#scaler = StandardScaler() \n",
        "#scaler = MinMaxScaler() \n",
        "#scaler = MaxAbsScaler() \n",
        "scaler = RobustScaler() \n",
        "#scaler = PowerTransformer() \n",
        "#scaler = QuantileTransformer() \n",
        "\n",
        "train_x = scaler.fit_transform(train_x)\n",
        "test_x = scaler.transform(test_x) # change this to change test_x\n",
        "\n",
        "n_minority = len(train_y[train_y == 1])\n",
        "n_majority = int(n_minority * 1.75)\n",
        "sampling_numbers = {0: n_majority, 1: n_minority}\n",
        "\n",
        "rus = imblearn.under_sampling.RandomUnderSampler(sampling_strategy=sampling_numbers)\n",
        "train_x_rus, train_y_rus = rus.fit_resample(train_x, train_y)\n",
        "train_y_rus = pd.Series(train_y_rus)\n",
        "\n",
        "f1_score_scores = [[],[]]\n",
        "sensitivity = []\n",
        "specificity = []\n",
        "\n",
        "# RFE: Feature ranking with recursive feature elimination.\n",
        "# SVM is a classifier -> predicting discrete categorical labels\n",
        "# SVR, which stands for Support Vector Regressor, is a regressor\n",
        "# SVR for continuous data, SVC for discrete data\n",
        "# SVM for discrete\n",
        "model = svm.SVC(kernel=\"rbf\", probability=True)\n",
        "#model = RFE(estimator, 5, step=1)\n",
        "\n",
        "for i in range(0,10):\n",
        "  model.fit(train_x_rus, train_y_rus)\n",
        "  predictions = model.predict(test_x) # problem?  \n",
        "  report = classification_report(test_y, predictions, output_dict = True)\n",
        "  ss = imblearn.metrics.sensitivity_specificity_support(test_y, predictions, average='macro')\n",
        "  \n",
        "  sensitivity.append(ss[0])\n",
        "  specificity.append(ss[1])\n",
        "\n",
        "  # F1 score: weighted average of the precision and recall\n",
        "  f1_score_scores[0].append(report['0']['f1-score'])\n",
        "  f1_score_scores[1].append(report['1']['f1-score'])\n",
        "\n",
        "f1_score_scores_avg_0 = sum(f1_score_scores[0]) / 10\n",
        "f1_score_scores_avg_1 = sum(f1_score_scores[1]) / 10\n",
        "sensitivity_avg = sum(sensitivity) / 10\n",
        "specificity_avg = sum(specificity) / 10\n",
        "\n",
        "print(\"f1 score = \", (f1_score_scores_avg_0 + f1_score_scores_avg_1)/2)\n",
        "print(\"sensitivity = \", sensitivity_avg)\n",
        "print(\"specificity = \", specificity_avg)"
      ],
      "execution_count": 362,
      "outputs": [
        {
          "output_type": "stream",
          "text": [
            "f1 score =  0.6331053351573188\n",
            "sensitivity =  0.62175055589246\n",
            "specificity =  0.62175055589246\n"
          ],
          "name": "stdout"
        }
      ]
    },
    {
      "cell_type": "code",
      "metadata": {
        "id": "mPbySA79aGIx",
        "colab_type": "code",
        "colab": {
          "base_uri": "https://localhost:8080/",
          "height": 312
        },
        "outputId": "dfbfa5d9-c975-42f6-c9d7-3148f0b43e5d"
      },
      "source": [
        "from sklearn.metrics import roc_curve, roc_auc_score\n",
        "\n",
        "y_score = model.predict_proba(test_x)[:,1]\n",
        "false_positive_rate, true_positive_rate, threshold = roc_curve(test_y, y_score)\n",
        "print('roc_auc_score = ', roc_auc_score(test_y, y_score))\n",
        "\n",
        "plt.title('ROC Curve')\n",
        "plt.plot(false_positive_rate, true_positive_rate)\n",
        "plt.plot([0, 1], ls=\"--\")\n",
        "plt.plot([0, 0], [1, 0] , c=\".7\"), plt.plot([1, 1] , c=\".7\")\n",
        "plt.ylabel('True Positive Rate')\n",
        "plt.xlabel('False Positive Rate')\n",
        "plt.show()"
      ],
      "execution_count": 363,
      "outputs": [
        {
          "output_type": "stream",
          "text": [
            "roc_auc_score =  0.6711407587089819\n"
          ],
          "name": "stdout"
        },
        {
          "output_type": "display_data",
          "data": {
            "image/png": "[encoded data removed]",
            "text/plain": [
              "<Figure size 432x288 with 1 Axes>"
            ]
          },
          "metadata": {
            "tags": []
          }
        }
      ]
    },
    {
      "cell_type": "code",
      "metadata": {
        "id": "dbIxY8WQlxq9",
        "colab_type": "code",
        "colab": {
          "base_uri": "https://localhost:8080/",
          "height": 51
        },
        "outputId": "339a60fc-b641-48ae-8064-a30897fcd356"
      },
      "source": [
        "count_0 = 0\n",
        "count_1 = 0\n",
        "for x in bg.Sepsis.values:\n",
        "  if int(x) == 1:\n",
        "    count_1 += 1\n",
        "  else:\n",
        "    count_0 += 1\n",
        "\n",
        "print(count_0)\n",
        "print(count_1)"
      ],
      "execution_count": 191,
      "outputs": [
        {
          "output_type": "stream",
          "text": [
            "4476\n",
            "739\n"
          ],
          "name": "stdout"
        }
      ]
    },
    {
      "cell_type": "markdown",
      "metadata": {
        "id": "K8bl-66freTl",
        "colab_type": "text"
      },
      "source": [
        " predict_proba: predicts the probabilities of various classes"
      ]
    },
    {
      "cell_type": "markdown",
      "metadata": {
        "id": "INdP9yEQr0bH",
        "colab_type": "text"
      },
      "source": [
        ""
      ]
    }
  ]
}